{
    "cells": [
        {
            "cell_type": "markdown",
            "metadata": {},
            "source": [
                "# Общий практикум. Задача №338\n",
                "## Бесконтактное определение проводимости\n",
                "\n",
                "**Цель работы:** ознакомление с бесконтактным методом измерения электропроводимости вещества. Метод использует дифференциальный трансформатор как фазометрическое устройство для определения частотной зависимости фазового сдвига между переменным внешним магнитным полем и намагниченностью опбразца, помещённого в это поле. Удельная электрическая проводимость материала образца может быть найдена из этой зависимости."
            ]
        },
        {
            "cell_type": "code",
            "execution_count": 49,
            "metadata": {
                "id": "gkGFcFT8tUo-"
            },
            "outputs": [],
            "source": [
                "import numpy as np\n",
                "import scipy as sp\n",
                "import matplotlib.pyplot as plt\n",
                "from matplotlib import rcParams\n",
                "rcParams['figure.dpi'] = 100"
            ]
        },
        {
            "cell_type": "markdown",
            "metadata": {},
            "source": [
                "### Описание метода\n",
                "При электронной эмиссии каждый электрон, покидающий катод, уносит с собой энергию, часть которой - работа выхода $A$. Если катод электронной лампы нагреть до температур термоэмиссии, то вблизи катода создаётся электронное облако. Если же теперь разомкнуть анодную цепь, то число электронов, покидающих катод, приравняется к числу электронов, возвращающихся на катод из электронного облака. При замыкании анодной цепи электроны движутся от катода к аноду, и как следствие темпераура катода падает. Это явление аналогично переносу энергии молекулами жидкости при испарении."
            ]
        },
        {
            "cell_type": "code",
            "execution_count": 1,
            "metadata": {
                "colab": {
                    "base_uri": "https://localhost:8080/",
                    "height": 347
                },
                "id": "ixvTzIyozAUZ",
                "outputId": "e8e9c3a7-03b9-4761-8683-b31af4826f2c"
            },
            "outputs": [
                {
                    "ename": "NameError",
                    "evalue": "name 'np' is not defined",
                    "output_type": "error",
                    "traceback": [
                        "\u001b[1;31m---------------------------------------------------------------------------\u001b[0m",
                        "\u001b[1;31mNameError\u001b[0m                                 Traceback (most recent call last)",
                        "\u001b[1;32m~\\AppData\\Local\\Temp/ipykernel_42432/1945251254.py\u001b[0m in \u001b[0;36m<module>\u001b[1;34m\u001b[0m\n\u001b[1;32m----> 1\u001b[1;33m \u001b[0mdata1\u001b[0m \u001b[1;33m=\u001b[0m \u001b[0mnp\u001b[0m\u001b[1;33m.\u001b[0m\u001b[0mloadtxt\u001b[0m\u001b[1;33m(\u001b[0m\u001b[1;34m'data1.txt'\u001b[0m\u001b[1;33m)\u001b[0m\u001b[1;33m\u001b[0m\u001b[1;33m\u001b[0m\u001b[0m\n\u001b[0m\u001b[0;32m      2\u001b[0m \u001b[1;33m\u001b[0m\u001b[0m\n\u001b[0;32m      3\u001b[0m \u001b[0mprint\u001b[0m \u001b[1;33m(\u001b[0m\u001b[1;34m'k = ({k} ± {dk}) МэВ'\u001b[0m\u001b[1;33m.\u001b[0m\u001b[0mformat\u001b[0m\u001b[1;33m(\u001b[0m\u001b[0mk\u001b[0m\u001b[1;33m=\u001b[0m\u001b[0mk\u001b[0m\u001b[1;33m,\u001b[0m \u001b[0mdk\u001b[0m\u001b[1;33m=\u001b[0m\u001b[0mdk\u001b[0m\u001b[1;33m)\u001b[0m\u001b[1;33m)\u001b[0m\u001b[1;33m\u001b[0m\u001b[1;33m\u001b[0m\u001b[0m\n\u001b[0;32m      4\u001b[0m \u001b[0mprint\u001b[0m \u001b[1;33m(\u001b[0m\u001b[1;34m'b = ({b} ± {db}) МэВ'\u001b[0m\u001b[1;33m.\u001b[0m\u001b[0mformat\u001b[0m\u001b[1;33m(\u001b[0m\u001b[0mb\u001b[0m\u001b[1;33m=\u001b[0m\u001b[0mb\u001b[0m\u001b[1;33m,\u001b[0m \u001b[0mdb\u001b[0m\u001b[1;33m=\u001b[0m\u001b[0mdb\u001b[0m\u001b[1;33m)\u001b[0m\u001b[1;33m)\u001b[0m\u001b[1;33m\u001b[0m\u001b[1;33m\u001b[0m\u001b[0m\n",
                        "\u001b[1;31mNameError\u001b[0m: name 'np' is not defined"
                    ]
                }
            ],
            "source": [
                "data1 = np.loadtxt('data1.txt')\n",
                "\n",
                "print ('k = ({k} ± {dk}) МэВ'.format(k=k, dk=dk))\n",
                "print ('b = ({b} ± {db}) МэВ'.format(b=b, db=db))"
            ]
        },
        {
            "cell_type": "markdown",
            "metadata": {
                "id": "26ap1heK3CPB"
            },
            "source": [
                "### Упражнение 2.\n",
                "\n",
                "Оценить разрешающую способность $\\gamma$-спектрометра, определив величину Γ — ширину пика на половине его высоты."
            ]
        },
        {
            "cell_type": "code",
            "execution_count": 55,
            "metadata": {
                "colab": {
                    "base_uri": "https://localhost:8080/"
                },
                "id": "7gZgItEPSNH5",
                "outputId": "608fd2c0-870d-4dcd-85f5-e96ec4a5db8f"
            },
            "outputs": [
                {
                    "name": "stdout",
                    "output_type": "stream",
                    "text": [
                        "Co-60 разрешение\n",
                        "1 пик: 0.06610546228496568 МэВ\n",
                        "2 пик: 0.06761270290020978 МэВ\n",
                        "\n",
                        "Eu-152 разрешение\n",
                        "1 пик: 0.0009812923055513671 МэВ\n",
                        "2 пик: 0.007282000453972141 МэВ\n",
                        "3 пик: 0.016744648733044733 МэВ\n",
                        "\n",
                        "Неизвестный источник разрешение\n",
                        "1 пик: 0.023175963335896162 МэВ\n",
                        "2 пик: 0.04344208260767217 МэВ\n",
                        "3 пик: 0.03469039688296001 МэВ\n",
                        "4 пик: 0.07232822787187139 МэВ\n"
                    ]
                }
            ],
            "source": [
                "data2 = np.loadtxt('data2.txt')\n",
                "\n",
                "G = np.absolute(data2*k + b)\n",
                "\n",
                "co = G[0:2]\n",
                "eu = G[2:5]\n",
                "unt = G[5:]\n",
                "\n",
                "print('Co-60 разрешение')\n",
                "for i, j in enumerate(co):\n",
                "  print('{i} пик: {j}'.format(i=i+1, j=j), 'МэВ')\n",
                "\n",
                "print('\\nEu-152 разрешение')\n",
                "for i, j in enumerate(eu):\n",
                "  print('{i} пик: {j}'.format(i=i+1, j=j), 'МэВ')\n",
                "\n",
                "print('\\nНеизвестный источник разрешение')\n",
                "for i, j in enumerate(unt):\n",
                "  print('{i} пик: {j}'.format(i=i+1, j=j), 'МэВ')"
            ]
        },
        {
            "cell_type": "markdown",
            "metadata": {
                "id": "JhO4OeBIT0QR"
            },
            "source": [
                "### Упражнение 3\n",
                "Определить энергию пика полного поглощения по данным ранее выполненной градуировки. По разрешающей способности спектрометра и полученным распределениям оценить ошибку определения энергии $\\Delta E$ для $\\gamma$-квантов от неизвестного источника. Представить результат в виде \n",
                "$$\\begin{equation}E(X) = E ± ∆E\\end{equation}$$"
            ]
        },
        {
            "cell_type": "code",
            "execution_count": 53,
            "metadata": {
                "colab": {
                    "base_uri": "https://localhost:8080/"
                },
                "id": "2XNzPOp24t0j",
                "outputId": "fdb44b02-5761-4148-e6ab-5b25529340b2"
            },
            "outputs": [
                {
                    "name": "stdout",
                    "output_type": "stream",
                    "text": [
                        "Энергия пиков неизвестного источника\n",
                        "0 пик: (0.31743862483531093 ± 0.0237948370374428) МэВ\n",
                        "1 пик: (0.8728215067445034 ± 0.0437753758908301) МэВ\n",
                        "2 пик: (2.403139439864201 ± 0.035106874383643696) МэВ\n",
                        "3 пик: (6.035894773181361 ± 0.07252890141300232) МэВ\n"
                    ]
                }
            ],
            "source": [
                "data3 = np.loadtxt('data3.txt')\n",
                "\n",
                "e_unt = k*data3 + b\n",
                "de_unt = np.sqrt(dk**2+db**2+unt**2)\n",
                "\n",
                "print('Энергия пиков неизвестного источника')\n",
                "for i in range(data3.shape[0]):\n",
                "  print('{i} пик: ({e} ± {de}) МэВ'.format(i=i, e=e_unt[i], de=de_unt[i]))"
            ]
        }
    ],
    "metadata": {
        "colab": {
            "collapsed_sections": [],
            "name": "Nuc_5.ipynb",
            "provenance": []
        },
        "kernelspec": {
            "display_name": "Python 3",
            "name": "python3"
        },
        "language_info": {
            "codemirror_mode": {
                "name": "ipython",
                "version": 3
            },
            "file_extension": ".py",
            "mimetype": "text/x-python",
            "name": "python",
            "nbconvert_exporter": "python",
            "pygments_lexer": "ipython3",
            "version": "3.9.5"
        }
    },
    "nbformat": 4,
    "nbformat_minor": 0
}
