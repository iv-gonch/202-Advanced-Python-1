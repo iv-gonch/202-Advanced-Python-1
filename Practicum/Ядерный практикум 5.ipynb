{
    "cells": [
        {
            "cell_type": "markdown",
            "metadata": {},
            "source": [
                "# Ядерный практикум. Задача №5\n",
                "## Электромагнитные взаимодействия.Определение энергии $\\gamma$ -квантов с помощью сцинтилляционного спектрометра\n",
                "\n",
                "**Цель работы:** определение энергии $\\gamma$-излучения неизвестного источника. Измерения проводятся с помощью сцинтилляционного спектрометра."
            ]
        },
        {
            "cell_type": "code",
            "execution_count": 49,
            "metadata": {
                "id": "gkGFcFT8tUo-"
            },
            "outputs": [],
            "source": [
                "import numpy as np\n",
                "import scipy as sp\n",
                "import matplotlib.pyplot as plt\n",
                "from matplotlib import rcParams\n",
                "rcParams['figure.dpi'] = 100"
            ]
        },
        {
            "cell_type": "markdown",
            "metadata": {},
            "source": [
                "### Упражнение 1.\n",
                "Для начала необходимо проградуировать $\\gamma$-спектрометр, т.е. получить зависимость номера канала амплитудного анализатора от энергии $\\gamma$-кванта. Для этого нужно измерить спектры величин импульсов от двух $\\gamma$-источников с известными энергиями $\\gamma$-квантов. В полученных спектрах выделить пики полного поглощения (фотопики). Построить график зависимости номера канала фотопика от энергии $\\gamma$-излучения."
            ]
        },
        {
            "cell_type": "markdown",
            "metadata": {
                "id": "WQXzfdywy9Q-"
            },
            "source": [
                "Построим грауировочную кривую используя МНК: $ E = k\\bullet n+b $"
            ]
        },
        {
            "cell_type": "code",
            "execution_count": 60,
            "metadata": {
                "colab": {
                    "base_uri": "https://localhost:8080/",
                    "height": 347
                },
                "id": "ixvTzIyozAUZ",
                "outputId": "e8e9c3a7-03b9-4761-8683-b31af4826f2c"
            },
            "outputs": [
                {
                    "data": {
                        "image/png": "[encoded data removed]",
                        "text/plain": [
                            "<Figure size 600x400 with 1 Axes>"
                        ]
                    },
                    "metadata": {
                        "needs_background": "light"
                    },
                    "output_type": "display_data"
                },
                {
                    "name": "stdout",
                    "output_type": "stream",
                    "text": [
                        "Результат МНК:\n",
                        "k = (0.01053277858311731 ± 6.827297787241238e-05) МэВ\n",
                        "b = (-0.01961028982444297 ± 0.005391134564463123) МэВ\n"
                    ]
                }
            ],
            "source": [
                "data1 = np.loadtxt('data1.txt')\n",
                "def mnk(data):\n",
                "  N = data.shape[0] # количество строк\n",
                "  x, y = data[:, 0], data[:, 1] # х - первый столбец. у - второй\n",
                "\n",
                "  mx, my = x.sum(), y.sum()\n",
                "  a1, a2 = np.dot(x.T, y), np.dot(x.T, x) # скалярное произведение столбцов\n",
                "  # .Т - транспонирование     .dot - почленное произвеедние\n",
                "  k = (N*a1 - mx*my)/(N*a2 - mx**2)\n",
                "  b = (a2*my - mx*a1)/(N*a2 - mx**2)\n",
                "  s0 = np.dot((y-k*x-b).T, (y-k*x-b))/(N-2)\n",
                "  dk = (s0*N/(N*a2 - mx**2))**(1/2)\n",
                "  db = (s0*a2/(N*a2 - mx**2))**(1/2)\n",
                "  f = np.array([k*z+b for z in range(150)])\n",
                "  return k, dk, b, db, f, s0\n",
                "\n",
                "k, dk, b, db, f, s0 = mnk(data1)\n",
                "plt.ylabel('Энергия, МэВ')\n",
                "plt.xlabel('Энергия, номер канала')\n",
                "plt.xlim((0, 150))\n",
                "plt.ylim((0, 1.5))\n",
                "plt.title('Градуировочная криивая', fontsize=14)\n",
                "plt.plot(f, c='red', lw = 1) #рисуем прямую МНК\n",
                "\n",
                "plt.scatter(data1[:,0], data1[:,1], s=1, c='black') #рисуем точки\n",
                "plt.errorbar(data1[:,0], data1[:,1], yerr=s0**(1/2), fmt='.', capsize=5, capthick=0.5); #рисуем погрешности\n",
                "plt.grid(True)\n",
                "plt.show()\n",
                "print ('Результат МНК:')\n",
                "print ('k = ({k} ± {dk}) МэВ'.format(k=k, dk=dk))\n",
                "print ('b = ({b} ± {db}) МэВ'.format(b=b, db=db))"
            ]
        },
        {
            "cell_type": "markdown",
            "metadata": {
                "id": "26ap1heK3CPB"
            },
            "source": [
                "### Упражнение 2.\n",
                "\n",
                "Оценить разрешающую способность $\\gamma$-спектрометра, определив величину Γ — ширину пика на половине его высоты."
            ]
        },
        {
            "cell_type": "code",
            "execution_count": 55,
            "metadata": {
                "colab": {
                    "base_uri": "https://localhost:8080/"
                },
                "id": "7gZgItEPSNH5",
                "outputId": "608fd2c0-870d-4dcd-85f5-e96ec4a5db8f"
            },
            "outputs": [
                {
                    "name": "stdout",
                    "output_type": "stream",
                    "text": [
                        "Co-60 разрешение\n",
                        "1 пик: 0.06610546228496568 МэВ\n",
                        "2 пик: 0.06761270290020978 МэВ\n",
                        "\n",
                        "Eu-152 разрешение\n",
                        "1 пик: 0.0009812923055513671 МэВ\n",
                        "2 пик: 0.007282000453972141 МэВ\n",
                        "3 пик: 0.016744648733044733 МэВ\n",
                        "\n",
                        "Неизвестный источник разрешение\n",
                        "1 пик: 0.023175963335896162 МэВ\n",
                        "2 пик: 0.04344208260767217 МэВ\n",
                        "3 пик: 0.03469039688296001 МэВ\n",
                        "4 пик: 0.07232822787187139 МэВ\n"
                    ]
                }
            ],
            "source": [
                "data2 = np.loadtxt('data2.txt')\n",
                "\n",
                "G = np.absolute(data2*k + b)\n",
                "\n",
                "co = G[0:2]\n",
                "eu = G[2:5]\n",
                "unt = G[5:]\n",
                "\n",
                "print('Co-60 разрешение')\n",
                "for i, j in enumerate(co):\n",
                "  print('{i} пик: {j}'.format(i=i+1, j=j), 'МэВ')\n",
                "\n",
                "print('\\nEu-152 разрешение')\n",
                "for i, j in enumerate(eu):\n",
                "  print('{i} пик: {j}'.format(i=i+1, j=j), 'МэВ')\n",
                "\n",
                "print('\\nНеизвестный источник разрешение')\n",
                "for i, j in enumerate(unt):\n",
                "  print('{i} пик: {j}'.format(i=i+1, j=j), 'МэВ')"
            ]
        },
        {
            "cell_type": "markdown",
            "metadata": {
                "id": "JhO4OeBIT0QR"
            },
            "source": [
                "### Упражнение 3\n",
                "Определить энергию пика полного поглощения по данным ранее выполненной градуировки. По разрешающей способности спектрометра и полученным распределениям оценить ошибку определения энергии $\\Delta E$ для $\\gamma$-квантов от неизвестного источника. Представить результат в виде \n",
                "$$\\begin{equation}E(X) = E ± ∆E\\end{equation}$$"
            ]
        },
        {
            "cell_type": "code",
            "execution_count": 53,
            "metadata": {
                "colab": {
                    "base_uri": "https://localhost:8080/"
                },
                "id": "2XNzPOp24t0j",
                "outputId": "fdb44b02-5761-4148-e6ab-5b25529340b2"
            },
            "outputs": [
                {
                    "name": "stdout",
                    "output_type": "stream",
                    "text": [
                        "Энергия пиков неизвестного источника\n",
                        "0 пик: (0.31743862483531093 ± 0.0237948370374428) МэВ\n",
                        "1 пик: (0.8728215067445034 ± 0.0437753758908301) МэВ\n",
                        "2 пик: (2.403139439864201 ± 0.035106874383643696) МэВ\n",
                        "3 пик: (6.035894773181361 ± 0.07252890141300232) МэВ\n"
                    ]
                }
            ],
            "source": [
                "data3 = np.loadtxt('data3.txt')\n",
                "\n",
                "e_unt = k*data3 + b\n",
                "de_unt = np.sqrt(dk**2+db**2+unt**2)\n",
                "\n",
                "print('Энергия пиков неизвестного источника')\n",
                "for i in range(data3.shape[0]):\n",
                "  print('{i} пик: ({e} ± {de}) МэВ'.format(i=i, e=e_unt[i], de=de_unt[i]))"
            ]
        }
    ],
    "metadata": {
        "colab": {
            "collapsed_sections": [],
            "name": "Nuc_5.ipynb",
            "provenance": []
        },
        "kernelspec": {
            "display_name": "Python 3",
            "name": "python3"
        },
        "language_info": {
            "codemirror_mode": {
                "name": "ipython",
                "version": 3
            },
            "file_extension": ".py",
            "mimetype": "text/x-python",
            "name": "python",
            "nbconvert_exporter": "python",
            "pygments_lexer": "ipython3",
            "version": "3.9.5"
        }
    },
    "nbformat": 4,
    "nbformat_minor": 0
}
